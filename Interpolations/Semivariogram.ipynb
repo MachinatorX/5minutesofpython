{
 "cells": [
  {
   "cell_type": "markdown",
   "metadata": {},
   "source": [
    "# Variogram for Geologic Tops"
   ]
  },
  {
   "cell_type": "markdown",
   "metadata": {},
   "source": [
    "In this notebook we will read in a small top dataset, understand how the data is distributed both spatially and depth-wise. next we will choose the parameters for our semivariogram and then use `geostatspy` to calculate the isotropic, 030, and 060 directional experimental semivariograms."
   ]
  },
  {
   "cell_type": "markdown",
   "metadata": {},
   "source": [
    "Make sure you have `geostatspy` installed in your virtual environment with the cell below"
   ]
  },
  {
   "cell_type": "code",
   "execution_count": null,
   "metadata": {},
   "outputs": [],
   "source": [
    "! pip install geostatspy"
   ]
  },
  {
   "cell_type": "markdown",
   "metadata": {},
   "source": [
    "Then go ahead and import `geostatspy`, `matplotlib`, `pandas`, and `seaborn`"
   ]
  },
  {
   "cell_type": "code",
   "execution_count": 1,
   "metadata": {},
   "outputs": [],
   "source": [
    "import geostatspy.geostats as geostats\n",
    "import matplotlib.pyplot as plt\n",
    "import pandas as pd\n",
    "import seaborn as sns\n",
    "\n",
    "sns.set()\n",
    "\n",
    "%matplotlib inline"
   ]
  },
  {
   "cell_type": "markdown",
   "metadata": {},
   "source": [
    "Now use pandas to read in the `csv` file that contains the depth to the top of the formation"
   ]
  },
  {
   "cell_type": "code",
   "execution_count": 2,
   "metadata": {},
   "outputs": [],
   "source": [
    "data = pd.read_csv(r\"top_depth.csv\")"
   ]
  },
  {
   "cell_type": "markdown",
   "metadata": {},
   "source": [
    "Use the `.describe()` method to get the descriptive statistics on the location and depth of each data point. We want to use the statistics to guide our choice in parameter selection"
   ]
  },
  {
   "cell_type": "code",
   "execution_count": 3,
   "metadata": {},
   "outputs": [
    {
     "data": {
      "text/html": [
       "<div>\n",
       "<style scoped>\n",
       "    .dataframe tbody tr th:only-of-type {\n",
       "        vertical-align: middle;\n",
       "    }\n",
       "\n",
       "    .dataframe tbody tr th {\n",
       "        vertical-align: top;\n",
       "    }\n",
       "\n",
       "    .dataframe thead th {\n",
       "        text-align: right;\n",
       "    }\n",
       "</style>\n",
       "<table border=\"1\" class=\"dataframe\">\n",
       "  <thead>\n",
       "    <tr style=\"text-align: right;\">\n",
       "      <th></th>\n",
       "      <th>count</th>\n",
       "      <th>mean</th>\n",
       "      <th>std</th>\n",
       "      <th>min</th>\n",
       "      <th>25%</th>\n",
       "      <th>50%</th>\n",
       "      <th>75%</th>\n",
       "      <th>max</th>\n",
       "    </tr>\n",
       "  </thead>\n",
       "  <tbody>\n",
       "    <tr>\n",
       "      <td>depth (ft)</td>\n",
       "      <td>808.0</td>\n",
       "      <td>7260.137005</td>\n",
       "      <td>2728.745904</td>\n",
       "      <td>736.50000</td>\n",
       "      <td>5415.35000</td>\n",
       "      <td>7350.35000</td>\n",
       "      <td>9058.300000</td>\n",
       "      <td>16256.50000</td>\n",
       "    </tr>\n",
       "    <tr>\n",
       "      <td>longitude</td>\n",
       "      <td>888.0</td>\n",
       "      <td>-108.154491</td>\n",
       "      <td>0.295066</td>\n",
       "      <td>-108.83045</td>\n",
       "      <td>-108.40530</td>\n",
       "      <td>-108.12416</td>\n",
       "      <td>-107.917205</td>\n",
       "      <td>-107.47332</td>\n",
       "    </tr>\n",
       "    <tr>\n",
       "      <td>latitude</td>\n",
       "      <td>888.0</td>\n",
       "      <td>41.602112</td>\n",
       "      <td>0.318993</td>\n",
       "      <td>41.00538</td>\n",
       "      <td>41.32927</td>\n",
       "      <td>41.64078</td>\n",
       "      <td>41.846212</td>\n",
       "      <td>42.27089</td>\n",
       "    </tr>\n",
       "  </tbody>\n",
       "</table>\n",
       "</div>"
      ],
      "text/plain": [
       "            count         mean          std        min         25%  \\\n",
       "depth (ft)  808.0  7260.137005  2728.745904  736.50000  5415.35000   \n",
       "longitude   888.0  -108.154491     0.295066 -108.83045  -108.40530   \n",
       "latitude    888.0    41.602112     0.318993   41.00538    41.32927   \n",
       "\n",
       "                   50%          75%          max  \n",
       "depth (ft)  7350.35000  9058.300000  16256.50000  \n",
       "longitude   -108.12416  -107.917205   -107.47332  \n",
       "latitude      41.64078    41.846212     42.27089  "
      ]
     },
     "execution_count": 3,
     "metadata": {},
     "output_type": "execute_result"
    }
   ],
   "source": [
    "data.describe().T"
   ]
  },
  {
   "cell_type": "markdown",
   "metadata": {},
   "source": [
    "Set the parameters to variables. Here we are most concerned with the `xlag`, `xltol`, `azm`, and `atol` variables. Those are the lag distance, lag tolerance, azimuth, and azimuth tolerance respectively. Change these to see how it impacts the experimental variograms"
   ]
  },
  {
   "cell_type": "code",
   "execution_count": 4,
   "metadata": {},
   "outputs": [],
   "source": [
    "tmin = 0.0\n",
    "tmax = 100_000.0\n",
    "xlag = 0.01\n",
    "xltol = 0.005\n",
    "nlag = 100\n",
    "azm = 0.0\n",
    "atol = 90\n",
    "bandwh = 0.005\n",
    "isill = 1"
   ]
  },
  {
   "cell_type": "markdown",
   "metadata": {},
   "source": [
    "To calculate the semivariogram we call `geostats.gamv()` and imput our variables according to the documentation. Here I calculate the isotropic experimental semivariogram, along with directional semivariograms in the 030 and 060 directions."
   ]
  },
  {
   "cell_type": "code",
   "execution_count": 5,
   "metadata": {},
   "outputs": [],
   "source": [
    "isotropic_lag, isotropic_vario, isotropic_npp = geostats.gamv(\n",
    "    data,\n",
    "    \"longitude\",\n",
    "    \"latitude\",\n",
    "    \"depth (ft)\",\n",
    "    tmin,\n",
    "    tmax,\n",
    "    xlag,\n",
    "    xltol,\n",
    "    nlag,\n",
    "    azm,\n",
    "    atol,\n",
    "    bandwh,\n",
    "    isill,\n",
    ")\n",
    "\n",
    "zero_lag, zero_vario, zero_npp = geostats.gamv(\n",
    "    data,\n",
    "    \"longitude\",\n",
    "    \"latitude\",\n",
    "    \"depth (ft)\",\n",
    "    tmin,\n",
    "    tmax,\n",
    "    xlag,\n",
    "    xltol,\n",
    "    nlag,\n",
    "    30.0,\n",
    "    22,\n",
    "    bandwh,\n",
    "    isill,\n",
    ")\n",
    "\n",
    "ninety_lag, ninety_vario, ninety_npp = geostats.gamv(\n",
    "    data,\n",
    "    \"longitude\",\n",
    "    \"latitude\",\n",
    "    \"depth (ft)\",\n",
    "    tmin,\n",
    "    tmax,\n",
    "    xlag,\n",
    "    xltol,\n",
    "    nlag,\n",
    "    60,\n",
    "    22,\n",
    "    bandwh,\n",
    "    isill,\n",
    ")"
   ]
  },
  {
   "cell_type": "markdown",
   "metadata": {},
   "source": [
    "Lastly, let's go ahead and plot up the semivariogram along with the lag distance to compare them. That was quick and painless! Now comes the hard part. Take some time and think about what the difference between these three semivariograms means from a geologic perspective. Think about the following:\n",
    "* Is the data isotropic? \n",
    "* Is there some directional component in the dataset?\n",
    "* What does the range and sill of the different semivariograms tell you?"
   ]
  },
  {
   "cell_type": "code",
   "execution_count": 6,
   "metadata": {},
   "outputs": [
    {
     "data": {
      "text/plain": [
       "<matplotlib.legend.Legend at 0x2c67041f198>"
      ]
     },
     "execution_count": 6,
     "metadata": {},
     "output_type": "execute_result"
    },
    {
     "data": {
      "image/png": "[encoded data removed]",
      "text/plain": [
       "<Figure size 504x360 with 1 Axes>"
      ]
     },
     "metadata": {
      "needs_background": "light"
     },
     "output_type": "display_data"
    }
   ],
   "source": [
    "plt.figure(figsize=(7, 5))\n",
    "plt.scatter(\n",
    "    isotropic_lag,\n",
    "    isotropic_vario,\n",
    "    c=\"black\",\n",
    "    marker=\"+\",\n",
    "    alpha=0.5,\n",
    "    label=\"Isotropic\",\n",
    ")\n",
    "plt.scatter(\n",
    "    zero_lag, zero_vario, c=\"green\", marker=\"x\", alpha=0.5, label=\"030 azimuth\"\n",
    ")\n",
    "plt.scatter(\n",
    "    ninety_lag, ninety_vario, c=\"orange\", alpha=0.5, label=\"060 azimuth\"\n",
    ")\n",
    "plt.ylim(0, 3)\n",
    "plt.xlabel(\"Lag Distance (degrees)\")\n",
    "plt.ylabel(\"Semivariogram\")\n",
    "plt.title(\"Experimental Variograms\")\n",
    "plt.legend()"
   ]
  },
  {
   "cell_type": "markdown",
   "metadata": {},
   "source": [
    "This notebook is licensed as CC-BY, use and share to your hearts content."
   ]
  }
 ],
 "metadata": {
  "kernelspec": {
   "display_name": "Python 3",
   "language": "python",
   "name": "python3"
  },
  "language_info": {
   "codemirror_mode": {
    "name": "ipython",
    "version": 3
   },
   "file_extension": ".py",
   "mimetype": "text/x-python",
   "name": "python",
   "nbconvert_exporter": "python",
   "pygments_lexer": "ipython3",
   "version": "3.7.3"
  }
 },
 "nbformat": 4,
 "nbformat_minor": 4
}
