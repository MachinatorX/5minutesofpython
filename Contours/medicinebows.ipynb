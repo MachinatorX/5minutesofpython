{
 "cells": [
  {
   "cell_type": "markdown",
   "metadata": {},
   "source": [
    "### This notebook reads in elevation data for the Medicine Bow Mountains in Southeast Wyoming and creates a contour map"
   ]
  },
  {
   "cell_type": "code",
   "execution_count": 1,
   "metadata": {},
   "outputs": [],
   "source": [
    "#only using numpy, rasterio, and matplotlib\n",
    "import numpy as np\n",
    "import rasterio\n",
    "import matplotlib.pyplot as plt\n",
    "%matplotlib inline"
   ]
  },
  {
   "cell_type": "markdown",
   "metadata": {},
   "source": [
    "first we will read in the digital elevation model using rasterio and assign it to variable e. We will change the float values to integers as well"
   ]
  },
  {
   "cell_type": "code",
   "execution_count": null,
   "metadata": {},
   "outputs": [],
   "source": [
    "with rasterio.open('medbows.tif') as src:\n",
    "    e = src.read().astype(int)"
   ]
  },
  {
   "cell_type": "markdown",
   "metadata": {},
   "source": [
    "let's see what the DEM looks like with a quick plot by matplotlib, we slice the array so we have the x and y coordinates in the right places"
   ]
  },
  {
   "cell_type": "code",
   "execution_count": null,
   "metadata": {},
   "outputs": [
    {
     "data": {
      "text/plain": [
       "<matplotlib.image.AxesImage at 0x1f389b3a400>"
      ]
     },
     "execution_count": 3,
     "metadata": {},
     "output_type": "execute_result"
    }
   ],
   "source": [
    "plt.imshow(e[0])"
   ]
  },
  {
   "cell_type": "markdown",
   "metadata": {},
   "source": [
    "Then all it takes to make a contour map is to call the contour function in matplotlib"
   ]
  },
  {
   "cell_type": "code",
   "execution_count": null,
   "metadata": {},
   "outputs": [],
   "source": [
    "contour_interval = 150 #the contour interval variable controls the interval\n",
    "fig = plt.figure(figsize = (12, 8)) #create our figure\n",
    "ax = fig.add_subplot(111) #add our subplot to the figure\n",
    "\n",
    "#this line does everything we need for the contour map\n",
    "contours = plt.contour(np.flip(e[0],0), colors='k', levels = list(range(e[0].min(), e[0].max(), contour_interval))) \n",
    "#we have to flip the array otherwise it is upside down in the real world\n",
    "#try it by removing the np.flip call and compare with the plot above\n",
    "#we assign colors to black for all one color, then make a list of the contours we want\n",
    "#the min and max calls can be changed to whatever you want\n",
    "#the contour interval variable controls the interval\n",
    "levels = list(range(e[0].min(), e[0].max(), contour_interval)) \n",
    "#this is a list of the labels for the contour plot\n",
    "plt.title(\"Contour Elevation map of the Medicine Bow Mountains\") #add a title\n",
    "plt.clabel(contours, levels, fontsize=10, inline=True) #add some labels to the plot\n"
   ]
  },
  {
   "cell_type": "code",
   "execution_count": null,
   "metadata": {},
   "outputs": [],
   "source": []
  }
 ],
 "metadata": {
  "kernelspec": {
   "display_name": "Python 3",
   "language": "python",
   "name": "python3"
  },
  "language_info": {
   "codemirror_mode": {
    "name": "ipython",
    "version": 3
   },
   "file_extension": ".py",
   "mimetype": "text/x-python",
   "name": "python",
   "nbconvert_exporter": "python",
   "pygments_lexer": "ipython3",
   "version": "3.6.6"
  }
 },
 "nbformat": 4,
 "nbformat_minor": 2
}
