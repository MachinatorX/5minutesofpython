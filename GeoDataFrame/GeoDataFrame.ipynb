{
 "cells": [
  {
   "cell_type": "markdown",
   "metadata": {},
   "source": [
    "# Creating a GeoDataFrame from a CSV file"
   ]
  },
  {
   "cell_type": "markdown",
   "metadata": {},
   "source": [
    "We are going to use `geopandas` `pandas` `shapely` and `matplotlib` to create and visualize a `GeoDataFrame`"
   ]
  },
  {
   "cell_type": "code",
   "execution_count": null,
   "metadata": {},
   "outputs": [],
   "source": [
    "! conda install -c conda-forge geopandas"
   ]
  },
  {
   "cell_type": "code",
   "execution_count": 1,
   "metadata": {},
   "outputs": [],
   "source": [
    "# read in our packages\n",
    "import pandas as pd\n",
    "import geopandas as gpd\n",
    "import matplotlib.pyplot as plt\n",
    "from shapely.geometry import Point\n",
    "\n",
    "%matplotlib inline"
   ]
  },
  {
   "cell_type": "code",
   "execution_count": 2,
   "metadata": {},
   "outputs": [],
   "source": [
    "data = pd.read_csv(\"ride_data.csv\", index_col=[\"time\"], parse_dates=True)\n",
    "# read in the data and use the time column as a datetime index"
   ]
  },
  {
   "cell_type": "markdown",
   "metadata": {},
   "source": [
    "To create a `GeoDataFrame` we first need to create a geometry column. To do that we take the `data.longitude` and `data.latitude` and `zip` them together in a list. We then create a point using the shapely `Point` [constructor](https://shapely.readthedocs.io/en/stable/manual.html#points) and add it to the `geometry` list. Next, we remove the `latitude` `longitude` and `distance` columns from our data frame since we no longer need them. Then we create a dictionary with our Coordinate Reference Systems (CRS). Here we are using the WGS 84 reference system. \n",
    "\n",
    "Last all we need to do is call the `geopandas` `GeoDataFrame` on our `DataFrame`, `crs` dictionary, and `geometry` list to create our spatial data frame"
   ]
  },
  {
   "cell_type": "code",
   "execution_count": 3,
   "metadata": {},
   "outputs": [],
   "source": [
    "# create our geometry list from the latitude and longitude\n",
    "geometry = [Point(xy) for xy in zip(data.longitude, data.latitude)]\n",
    "# drop our columns that we no longer need\n",
    "data = data.drop([\"longitude\", \"latitude\", \"distance\", \"Unnamed: 0\"], axis=1)\n",
    "# set our CRS dictionary\n",
    "crs = {\"init\": \"epsg:4326\"}\n",
    "# one line call to create our GeoDataFrame\n",
    "gdf = gpd.GeoDataFrame(data, crs=crs, geometry=geometry)"
   ]
  },
  {
   "cell_type": "markdown",
   "metadata": {},
   "source": [
    "Double check to make sure it worked well and we can see the longitude and latitude in the `geometry` column"
   ]
  },
  {
   "cell_type": "code",
   "execution_count": 4,
   "metadata": {},
   "outputs": [
    {
     "data": {
      "text/html": [
       "<div>\n",
       "<style scoped>\n",
       "    .dataframe tbody tr th:only-of-type {\n",
       "        vertical-align: middle;\n",
       "    }\n",
       "\n",
       "    .dataframe tbody tr th {\n",
       "        vertical-align: top;\n",
       "    }\n",
       "\n",
       "    .dataframe thead th {\n",
       "        text-align: right;\n",
       "    }\n",
       "</style>\n",
       "<table border=\"1\" class=\"dataframe\">\n",
       "  <thead>\n",
       "    <tr style=\"text-align: right;\">\n",
       "      <th></th>\n",
       "      <th>elevation</th>\n",
       "      <th>heart</th>\n",
       "      <th>slope</th>\n",
       "      <th>geometry</th>\n",
       "    </tr>\n",
       "    <tr>\n",
       "      <th>time</th>\n",
       "      <th></th>\n",
       "      <th></th>\n",
       "      <th></th>\n",
       "      <th></th>\n",
       "    </tr>\n",
       "  </thead>\n",
       "  <tbody>\n",
       "    <tr>\n",
       "      <th>2018-09-29 13:49:47+00:00</th>\n",
       "      <td>1917.9</td>\n",
       "      <td>128</td>\n",
       "      <td>1.0</td>\n",
       "      <td>POINT (-111.372203 44.424087)</td>\n",
       "    </tr>\n",
       "    <tr>\n",
       "      <th>2018-09-29 14:02:38+00:00</th>\n",
       "      <td>1918.9</td>\n",
       "      <td>162</td>\n",
       "      <td>0.5</td>\n",
       "      <td>POINT (-111.372179 44.420219)</td>\n",
       "    </tr>\n",
       "    <tr>\n",
       "      <th>2018-09-29 14:02:41+00:00</th>\n",
       "      <td>1919.4</td>\n",
       "      <td>162</td>\n",
       "      <td>0.1</td>\n",
       "      <td>POINT (-111.372025 44.419968)</td>\n",
       "    </tr>\n",
       "    <tr>\n",
       "      <th>2018-09-29 14:02:42+00:00</th>\n",
       "      <td>1919.5</td>\n",
       "      <td>163</td>\n",
       "      <td>0.1</td>\n",
       "      <td>POINT (-111.372062 44.419922)</td>\n",
       "    </tr>\n",
       "    <tr>\n",
       "      <th>2018-09-29 14:02:43+00:00</th>\n",
       "      <td>1919.6</td>\n",
       "      <td>163</td>\n",
       "      <td>0.2</td>\n",
       "      <td>POINT (-111.372071 44.41986)</td>\n",
       "    </tr>\n",
       "  </tbody>\n",
       "</table>\n",
       "</div>"
      ],
      "text/plain": [
       "                           elevation  heart  slope  \\\n",
       "time                                                 \n",
       "2018-09-29 13:49:47+00:00     1917.9    128    1.0   \n",
       "2018-09-29 14:02:38+00:00     1918.9    162    0.5   \n",
       "2018-09-29 14:02:41+00:00     1919.4    162    0.1   \n",
       "2018-09-29 14:02:42+00:00     1919.5    163    0.1   \n",
       "2018-09-29 14:02:43+00:00     1919.6    163    0.2   \n",
       "\n",
       "                                                geometry  \n",
       "time                                                      \n",
       "2018-09-29 13:49:47+00:00  POINT (-111.372203 44.424087)  \n",
       "2018-09-29 14:02:38+00:00  POINT (-111.372179 44.420219)  \n",
       "2018-09-29 14:02:41+00:00  POINT (-111.372025 44.419968)  \n",
       "2018-09-29 14:02:42+00:00  POINT (-111.372062 44.419922)  \n",
       "2018-09-29 14:02:43+00:00   POINT (-111.372071 44.41986)  "
      ]
     },
     "execution_count": 4,
     "metadata": {},
     "output_type": "execute_result"
    }
   ],
   "source": [
    "gdf.head()"
   ]
  },
  {
   "cell_type": "markdown",
   "metadata": {},
   "source": [
    "Now let's convert it to a different CRS so we can have our data projected in meters. this is a one liner, we use `.to_crs` along with a string containing our projection, ellipse, datum, and units to reproject the data."
   ]
  },
  {
   "cell_type": "code",
   "execution_count": 5,
   "metadata": {},
   "outputs": [],
   "source": [
    "gdf_m = gdf.to_crs(\n",
    "    \"+proj=utm +zone=12 +ellps=WGS84 +datum=WGS84 +units=m +no_defs\"\n",
    ")"
   ]
  },
  {
   "cell_type": "markdown",
   "metadata": {},
   "source": [
    "Double check the geometry column is no longer in decimal degrees"
   ]
  },
  {
   "cell_type": "code",
   "execution_count": 6,
   "metadata": {},
   "outputs": [
    {
     "data": {
      "text/html": [
       "<div>\n",
       "<style scoped>\n",
       "    .dataframe tbody tr th:only-of-type {\n",
       "        vertical-align: middle;\n",
       "    }\n",
       "\n",
       "    .dataframe tbody tr th {\n",
       "        vertical-align: top;\n",
       "    }\n",
       "\n",
       "    .dataframe thead th {\n",
       "        text-align: right;\n",
       "    }\n",
       "</style>\n",
       "<table border=\"1\" class=\"dataframe\">\n",
       "  <thead>\n",
       "    <tr style=\"text-align: right;\">\n",
       "      <th></th>\n",
       "      <th>elevation</th>\n",
       "      <th>heart</th>\n",
       "      <th>slope</th>\n",
       "      <th>geometry</th>\n",
       "    </tr>\n",
       "    <tr>\n",
       "      <th>time</th>\n",
       "      <th></th>\n",
       "      <th></th>\n",
       "      <th></th>\n",
       "      <th></th>\n",
       "    </tr>\n",
       "  </thead>\n",
       "  <tbody>\n",
       "    <tr>\n",
       "      <th>2018-09-29 13:49:47+00:00</th>\n",
       "      <td>1917.9</td>\n",
       "      <td>128</td>\n",
       "      <td>1.0</td>\n",
       "      <td>POINT (470372.326700983 4919044.365244503)</td>\n",
       "    </tr>\n",
       "    <tr>\n",
       "      <th>2018-09-29 14:02:38+00:00</th>\n",
       "      <td>1918.9</td>\n",
       "      <td>162</td>\n",
       "      <td>0.5</td>\n",
       "      <td>POINT (470372.2836689437 4918614.71424212)</td>\n",
       "    </tr>\n",
       "    <tr>\n",
       "      <th>2018-09-29 14:02:41+00:00</th>\n",
       "      <td>1919.4</td>\n",
       "      <td>162</td>\n",
       "      <td>0.1</td>\n",
       "      <td>POINT (470384.4163059747 4918586.778427571)</td>\n",
       "    </tr>\n",
       "    <tr>\n",
       "      <th>2018-09-29 14:02:42+00:00</th>\n",
       "      <td>1919.5</td>\n",
       "      <td>163</td>\n",
       "      <td>0.1</td>\n",
       "      <td>POINT (470381.4476438793 4918581.682316032)</td>\n",
       "    </tr>\n",
       "    <tr>\n",
       "      <th>2018-09-29 14:02:43+00:00</th>\n",
       "      <td>1919.6</td>\n",
       "      <td>163</td>\n",
       "      <td>0.2</td>\n",
       "      <td>POINT (470380.6998837403 4918574.798857593)</td>\n",
       "    </tr>\n",
       "  </tbody>\n",
       "</table>\n",
       "</div>"
      ],
      "text/plain": [
       "                           elevation  heart  slope  \\\n",
       "time                                                 \n",
       "2018-09-29 13:49:47+00:00     1917.9    128    1.0   \n",
       "2018-09-29 14:02:38+00:00     1918.9    162    0.5   \n",
       "2018-09-29 14:02:41+00:00     1919.4    162    0.1   \n",
       "2018-09-29 14:02:42+00:00     1919.5    163    0.1   \n",
       "2018-09-29 14:02:43+00:00     1919.6    163    0.2   \n",
       "\n",
       "                                                              geometry  \n",
       "time                                                                    \n",
       "2018-09-29 13:49:47+00:00   POINT (470372.326700983 4919044.365244503)  \n",
       "2018-09-29 14:02:38+00:00   POINT (470372.2836689437 4918614.71424212)  \n",
       "2018-09-29 14:02:41+00:00  POINT (470384.4163059747 4918586.778427571)  \n",
       "2018-09-29 14:02:42+00:00  POINT (470381.4476438793 4918581.682316032)  \n",
       "2018-09-29 14:02:43+00:00  POINT (470380.6998837403 4918574.798857593)  "
      ]
     },
     "execution_count": 6,
     "metadata": {},
     "output_type": "execute_result"
    }
   ],
   "source": [
    "gdf_m.head()"
   ]
  },
  {
   "cell_type": "markdown",
   "metadata": {},
   "source": [
    "The geometry is now in UTM so we can get things like distance in meters from the `GeoDataFrame`. To do that we get the `geometry` column and use `.distance()` on the `geometry` column shifted down one row. Then we fill in the `NaN` values with zero."
   ]
  },
  {
   "cell_type": "code",
   "execution_count": 7,
   "metadata": {},
   "outputs": [],
   "source": [
    "gdf_m[\"distance_m\"] = (\n",
    "    gdf_m.geometry.distance(gdf_m.geometry.shift(1)).copy().fillna(0)\n",
    ")"
   ]
  },
  {
   "cell_type": "markdown",
   "metadata": {},
   "source": [
    "We can also get the time difference from the `datetimeindex` in seconds, to do this we take the `index` then convert it to a `Series` using `.to_series` then difference it with `.diff()` and set the type to seconds with `dt.seconds`. Finally we fill in any `NaN` values with zero. "
   ]
  },
  {
   "cell_type": "code",
   "execution_count": 8,
   "metadata": {},
   "outputs": [],
   "source": [
    "gdf_m[\"dtime_s\"] = (\n",
    "    gdf_m.index.to_series(keep_tz=True).diff().dt.seconds.fillna(0.0)\n",
    ")"
   ]
  },
  {
   "cell_type": "markdown",
   "metadata": {},
   "source": [
    "The `GeoDataFrame` now has `distance_m` and `dtime_s` which we can use to calculate speed in meters per second. All we have to do for that is divide the distance by the time and create a new column in the data called `speed`"
   ]
  },
  {
   "cell_type": "code",
   "execution_count": 9,
   "metadata": {},
   "outputs": [],
   "source": [
    "gdf_m[\"speed\"] = (gdf_m.distance_m / gdf_m.dtime_s).fillna(0.0)"
   ]
  },
  {
   "cell_type": "code",
   "execution_count": 10,
   "metadata": {},
   "outputs": [
    {
     "data": {
      "text/html": [
       "<div>\n",
       "<style scoped>\n",
       "    .dataframe tbody tr th:only-of-type {\n",
       "        vertical-align: middle;\n",
       "    }\n",
       "\n",
       "    .dataframe tbody tr th {\n",
       "        vertical-align: top;\n",
       "    }\n",
       "\n",
       "    .dataframe thead th {\n",
       "        text-align: right;\n",
       "    }\n",
       "</style>\n",
       "<table border=\"1\" class=\"dataframe\">\n",
       "  <thead>\n",
       "    <tr style=\"text-align: right;\">\n",
       "      <th></th>\n",
       "      <th>elevation</th>\n",
       "      <th>heart</th>\n",
       "      <th>slope</th>\n",
       "      <th>geometry</th>\n",
       "      <th>distance_m</th>\n",
       "      <th>dtime_s</th>\n",
       "      <th>speed</th>\n",
       "    </tr>\n",
       "    <tr>\n",
       "      <th>time</th>\n",
       "      <th></th>\n",
       "      <th></th>\n",
       "      <th></th>\n",
       "      <th></th>\n",
       "      <th></th>\n",
       "      <th></th>\n",
       "      <th></th>\n",
       "    </tr>\n",
       "  </thead>\n",
       "  <tbody>\n",
       "    <tr>\n",
       "      <th>2018-09-29 13:49:47+00:00</th>\n",
       "      <td>1917.9</td>\n",
       "      <td>128</td>\n",
       "      <td>1.0</td>\n",
       "      <td>POINT (470372.326700983 4919044.365244503)</td>\n",
       "      <td>0.000000</td>\n",
       "      <td>0.0</td>\n",
       "      <td>0.000000</td>\n",
       "    </tr>\n",
       "    <tr>\n",
       "      <th>2018-09-29 14:02:38+00:00</th>\n",
       "      <td>1918.9</td>\n",
       "      <td>162</td>\n",
       "      <td>0.5</td>\n",
       "      <td>POINT (470372.2836689437 4918614.71424212)</td>\n",
       "      <td>429.651005</td>\n",
       "      <td>771.0</td>\n",
       "      <td>0.557265</td>\n",
       "    </tr>\n",
       "    <tr>\n",
       "      <th>2018-09-29 14:02:41+00:00</th>\n",
       "      <td>1919.4</td>\n",
       "      <td>162</td>\n",
       "      <td>0.1</td>\n",
       "      <td>POINT (470384.4163059747 4918586.778427571)</td>\n",
       "      <td>30.456701</td>\n",
       "      <td>3.0</td>\n",
       "      <td>10.152234</td>\n",
       "    </tr>\n",
       "    <tr>\n",
       "      <th>2018-09-29 14:02:42+00:00</th>\n",
       "      <td>1919.5</td>\n",
       "      <td>163</td>\n",
       "      <td>0.1</td>\n",
       "      <td>POINT (470381.4476438793 4918581.682316032)</td>\n",
       "      <td>5.897737</td>\n",
       "      <td>1.0</td>\n",
       "      <td>5.897737</td>\n",
       "    </tr>\n",
       "    <tr>\n",
       "      <th>2018-09-29 14:02:43+00:00</th>\n",
       "      <td>1919.6</td>\n",
       "      <td>163</td>\n",
       "      <td>0.2</td>\n",
       "      <td>POINT (470380.6998837403 4918574.798857593)</td>\n",
       "      <td>6.923954</td>\n",
       "      <td>1.0</td>\n",
       "      <td>6.923954</td>\n",
       "    </tr>\n",
       "  </tbody>\n",
       "</table>\n",
       "</div>"
      ],
      "text/plain": [
       "                           elevation  heart  slope  \\\n",
       "time                                                 \n",
       "2018-09-29 13:49:47+00:00     1917.9    128    1.0   \n",
       "2018-09-29 14:02:38+00:00     1918.9    162    0.5   \n",
       "2018-09-29 14:02:41+00:00     1919.4    162    0.1   \n",
       "2018-09-29 14:02:42+00:00     1919.5    163    0.1   \n",
       "2018-09-29 14:02:43+00:00     1919.6    163    0.2   \n",
       "\n",
       "                                                              geometry  \\\n",
       "time                                                                     \n",
       "2018-09-29 13:49:47+00:00   POINT (470372.326700983 4919044.365244503)   \n",
       "2018-09-29 14:02:38+00:00   POINT (470372.2836689437 4918614.71424212)   \n",
       "2018-09-29 14:02:41+00:00  POINT (470384.4163059747 4918586.778427571)   \n",
       "2018-09-29 14:02:42+00:00  POINT (470381.4476438793 4918581.682316032)   \n",
       "2018-09-29 14:02:43+00:00  POINT (470380.6998837403 4918574.798857593)   \n",
       "\n",
       "                           distance_m  dtime_s      speed  \n",
       "time                                                       \n",
       "2018-09-29 13:49:47+00:00    0.000000      0.0   0.000000  \n",
       "2018-09-29 14:02:38+00:00  429.651005    771.0   0.557265  \n",
       "2018-09-29 14:02:41+00:00   30.456701      3.0  10.152234  \n",
       "2018-09-29 14:02:42+00:00    5.897737      1.0   5.897737  \n",
       "2018-09-29 14:02:43+00:00    6.923954      1.0   6.923954  "
      ]
     },
     "execution_count": 10,
     "metadata": {},
     "output_type": "execute_result"
    }
   ],
   "source": [
    "gdf_m.head()"
   ]
  },
  {
   "cell_type": "markdown",
   "metadata": {},
   "source": [
    "Just for fun we can look at how speed varied throughout the ride by setting the color of each point equal to the speed (m/s) at that point. "
   ]
  },
  {
   "cell_type": "code",
   "execution_count": 11,
   "metadata": {},
   "outputs": [
    {
     "data": {
      "text/plain": [
       "Text(0.5, 1.0, 'Speed of Bike Ride (m/s)')"
      ]
     },
     "execution_count": 11,
     "metadata": {},
     "output_type": "execute_result"
    },
    {
     "data": {
      "image/png": "[encoded data removed]",
      "text/plain": [
       "<Figure size 1080x576 with 2 Axes>"
      ]
     },
     "metadata": {
      "needs_background": "light"
     },
     "output_type": "display_data"
    }
   ],
   "source": [
    "fig, ax = plt.subplots(1, figsize=(15, 8))\n",
    "gdf_m.plot(column=\"speed\", cmap=\"magma\", ax=ax, legend=True)\n",
    "ax.set_title(\"Speed of Bike Ride (m/s)\")"
   ]
  },
  {
   "cell_type": "markdown",
   "metadata": {},
   "source": [
    "A lot of this is data wrangling, but now we have location, speed, distance, time, heart rate, elevation, and slope in a geographic format that we can export to whichever format we want if we want to drag it into GIS or anything else. We also have the foundation of a dataset that can be used to do some machine learning. Examples of fun things to do include predicting heart rate from speed, elevation, slope or vice versa. "
   ]
  },
  {
   "cell_type": "markdown",
   "metadata": {},
   "source": [
    "This notebook is licensed as CC-BY, use and share to your hearts content."
   ]
  }
 ],
 "metadata": {
  "kernelspec": {
   "display_name": "Python 3",
   "language": "python",
   "name": "python3"
  },
  "language_info": {
   "codemirror_mode": {
    "name": "ipython",
    "version": 3
   },
   "file_extension": ".py",
   "mimetype": "text/x-python",
   "name": "python",
   "nbconvert_exporter": "python",
   "pygments_lexer": "ipython3",
   "version": "3.6.6"
  }
 },
 "nbformat": 4,
 "nbformat_minor": 2
}
