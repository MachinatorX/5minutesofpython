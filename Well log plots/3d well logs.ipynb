{
 "cells": [
  {
   "cell_type": "markdown",
   "metadata": {},
   "source": [
    "# Plotting horizontal wells in 3D space"
   ]
  },
  {
   "cell_type": "markdown",
   "metadata": {},
   "source": [
    "To read in the well log LAS file you need to install `lasio` which is what the next cell does"
   ]
  },
  {
   "cell_type": "code",
   "execution_count": null,
   "metadata": {},
   "outputs": [],
   "source": [
    "! pip install lasio"
   ]
  },
  {
   "cell_type": "markdown",
   "metadata": {},
   "source": [
    "Then we import `lasio`, `numpy`, and `pandas` for managing our data and `matplotlib` for plotting up our well in 3D"
   ]
  },
  {
   "cell_type": "code",
   "execution_count": 1,
   "metadata": {},
   "outputs": [],
   "source": [
    "import lasio\n",
    "import numpy as np\n",
    "import pandas as pd\n",
    "import matplotlib.pyplot as plt\n",
    "\n",
    "%matplotlib inline"
   ]
  },
  {
   "cell_type": "markdown",
   "metadata": {},
   "source": [
    "Read in the `.las` file using `lasio` and assign it to variable `l`, we will then print out the curve mnemonics to see what curves are in this well log"
   ]
  },
  {
   "cell_type": "code",
   "execution_count": 2,
   "metadata": {},
   "outputs": [
    {
     "name": "stderr",
     "output_type": "stream",
     "text": [
      "Header section Parameter regexp=~P was not found.\n"
     ]
    },
    {
     "name": "stdout",
     "output_type": "stream",
     "text": [
      "DEPTH\n",
      "GR\n"
     ]
    }
   ],
   "source": [
    "log = lasio.read(\"logs/400709586.las\")  # reads the well log .las file\n",
    "for curve in log.curves:\n",
    "    print(curve.mnemonic)  # print out the curve mnemonics"
   ]
  },
  {
   "cell_type": "markdown",
   "metadata": {},
   "source": [
    "So this log contains a `DEPTH` track and a `GR` track. From the reading I did on this specific log it's from a LWD (logging while drilling) tool, so it's not surprising that it is measured depth and gamma ray. We want to convert this to a `pandas` `DataFrame` which is freakishly easy with `log.df()`"
   ]
  },
  {
   "cell_type": "code",
   "execution_count": 3,
   "metadata": {},
   "outputs": [
    {
     "data": {
      "text/html": [
       "<div>\n",
       "<style scoped>\n",
       "    .dataframe tbody tr th:only-of-type {\n",
       "        vertical-align: middle;\n",
       "    }\n",
       "\n",
       "    .dataframe tbody tr th {\n",
       "        vertical-align: top;\n",
       "    }\n",
       "\n",
       "    .dataframe thead th {\n",
       "        text-align: right;\n",
       "    }\n",
       "</style>\n",
       "<table border=\"1\" class=\"dataframe\">\n",
       "  <thead>\n",
       "    <tr style=\"text-align: right;\">\n",
       "      <th></th>\n",
       "      <th>GR</th>\n",
       "      <th>measured depth</th>\n",
       "    </tr>\n",
       "    <tr>\n",
       "      <th>DEPTH</th>\n",
       "      <th></th>\n",
       "      <th></th>\n",
       "    </tr>\n",
       "  </thead>\n",
       "  <tbody>\n",
       "    <tr>\n",
       "      <th>5000.0</th>\n",
       "      <td>92.00</td>\n",
       "      <td>5000.0</td>\n",
       "    </tr>\n",
       "    <tr>\n",
       "      <th>5001.0</th>\n",
       "      <td>94.20</td>\n",
       "      <td>5001.0</td>\n",
       "    </tr>\n",
       "    <tr>\n",
       "      <th>5002.0</th>\n",
       "      <td>96.00</td>\n",
       "      <td>5002.0</td>\n",
       "    </tr>\n",
       "    <tr>\n",
       "      <th>5003.0</th>\n",
       "      <td>99.97</td>\n",
       "      <td>5003.0</td>\n",
       "    </tr>\n",
       "    <tr>\n",
       "      <th>5004.0</th>\n",
       "      <td>101.55</td>\n",
       "      <td>5004.0</td>\n",
       "    </tr>\n",
       "  </tbody>\n",
       "</table>\n",
       "</div>"
      ],
      "text/plain": [
       "            GR  measured depth\n",
       "DEPTH                         \n",
       "5000.0   92.00          5000.0\n",
       "5001.0   94.20          5001.0\n",
       "5002.0   96.00          5002.0\n",
       "5003.0   99.97          5003.0\n",
       "5004.0  101.55          5004.0"
      ]
     },
     "execution_count": 3,
     "metadata": {},
     "output_type": "execute_result"
    }
   ],
   "source": [
    "lwd = log.df()  # creates a dataframe from the lasio object\n",
    "lwd[\"measured depth\"] = lwd.index  # let's add the depth track as a series\n",
    "lwd.head()  # check out the DataFrame"
   ]
  },
  {
   "cell_type": "markdown",
   "metadata": {},
   "source": [
    "Now that we have the LWD data in a `DataFrame`, let's read in the directional survey for this well that I pulled from the [Colorado Oil and Gas Conservation Commission](https://cogcc.state.co.us/#/home). It takes some digging to figure out what data is what on their page, but for this well the directional survey is an excel workbook with a macro. For our purposes we can read it in as an excel workbook. We set the columns in our `DataFrame` and for convenience I put the header data in the `header` column. You could drop it if you were so inclined. "
   ]
  },
  {
   "cell_type": "code",
   "execution_count": 4,
   "metadata": {},
   "outputs": [
    {
     "data": {
      "text/html": [
       "<div>\n",
       "<style scoped>\n",
       "    .dataframe tbody tr th:only-of-type {\n",
       "        vertical-align: middle;\n",
       "    }\n",
       "\n",
       "    .dataframe tbody tr th {\n",
       "        vertical-align: top;\n",
       "    }\n",
       "\n",
       "    .dataframe thead th {\n",
       "        text-align: right;\n",
       "    }\n",
       "</style>\n",
       "<table border=\"1\" class=\"dataframe\">\n",
       "  <thead>\n",
       "    <tr style=\"text-align: right;\">\n",
       "      <th></th>\n",
       "      <th>header</th>\n",
       "      <th>measured depth</th>\n",
       "      <th>inclination</th>\n",
       "      <th>azimuth</th>\n",
       "      <th>true vertical depth</th>\n",
       "      <th>northing +N</th>\n",
       "      <th>easting +E</th>\n",
       "    </tr>\n",
       "  </thead>\n",
       "  <tbody>\n",
       "    <tr>\n",
       "      <th>0</th>\n",
       "      <td>Operator Name</td>\n",
       "      <td>0.0</td>\n",
       "      <td>0.0</td>\n",
       "      <td>0.00</td>\n",
       "      <td>0.000</td>\n",
       "      <td>0.000</td>\n",
       "      <td>0.000</td>\n",
       "    </tr>\n",
       "    <tr>\n",
       "      <th>1</th>\n",
       "      <td>Whiting Oil and Gas</td>\n",
       "      <td>418.0</td>\n",
       "      <td>0.7</td>\n",
       "      <td>335.60</td>\n",
       "      <td>417.990</td>\n",
       "      <td>2.325</td>\n",
       "      <td>-1.055</td>\n",
       "    </tr>\n",
       "    <tr>\n",
       "      <th>2</th>\n",
       "      <td>Operator Number</td>\n",
       "      <td>788.0</td>\n",
       "      <td>1.6</td>\n",
       "      <td>353.30</td>\n",
       "      <td>787.912</td>\n",
       "      <td>9.514</td>\n",
       "      <td>-2.591</td>\n",
       "    </tr>\n",
       "    <tr>\n",
       "      <th>3</th>\n",
       "      <td>96155</td>\n",
       "      <td>1068.0</td>\n",
       "      <td>1.9</td>\n",
       "      <td>358.00</td>\n",
       "      <td>1067.781</td>\n",
       "      <td>18.035</td>\n",
       "      <td>-3.209</td>\n",
       "    </tr>\n",
       "    <tr>\n",
       "      <th>4</th>\n",
       "      <td>Well Name and Number</td>\n",
       "      <td>1254.0</td>\n",
       "      <td>2.0</td>\n",
       "      <td>0.32</td>\n",
       "      <td>1253.674</td>\n",
       "      <td>24.362</td>\n",
       "      <td>-3.299</td>\n",
       "    </tr>\n",
       "  </tbody>\n",
       "</table>\n",
       "</div>"
      ],
      "text/plain": [
       "                 header  measured depth  inclination  azimuth  \\\n",
       "0         Operator Name             0.0          0.0     0.00   \n",
       "1   Whiting Oil and Gas           418.0          0.7   335.60   \n",
       "2       Operator Number           788.0          1.6   353.30   \n",
       "3                 96155          1068.0          1.9   358.00   \n",
       "4  Well Name and Number          1254.0          2.0     0.32   \n",
       "\n",
       "   true vertical depth  northing +N  easting +E  \n",
       "0                0.000        0.000       0.000  \n",
       "1              417.990        2.325      -1.055  \n",
       "2              787.912        9.514      -2.591  \n",
       "3             1067.781       18.035      -3.209  \n",
       "4             1253.674       24.362      -3.299  "
      ]
     },
     "execution_count": 4,
     "metadata": {},
     "output_type": "execute_result"
    }
   ],
   "source": [
    "directional_data = pd.read_excel(\"logs/400708464.xlsm\")\n",
    "directional_data.columns = [\n",
    "    \"header\",\n",
    "    \"measured depth\",\n",
    "    \"inclination\",\n",
    "    \"azimuth\",\n",
    "    \"true vertical depth\",\n",
    "    \"northing +N\",\n",
    "    \"easting +E\",\n",
    "]\n",
    "directional_data.head()"
   ]
  },
  {
   "cell_type": "markdown",
   "metadata": {},
   "source": [
    "We can see that this `DataFrame` has `measured depth` and the `lwd` `DataFrame` also has a `measured depth` column. We can merge these two `DataFrame`s on `measured depth` so that we have one `DataFrame` with all our data. All our data includes `northing`, `easting`, `measured depth`, and `true vertical depth` which means we have x, y, and z coordinates along with `GR` values along some of the wellbore."
   ]
  },
  {
   "cell_type": "code",
   "execution_count": 5,
   "metadata": {},
   "outputs": [
    {
     "data": {
      "text/html": [
       "<div>\n",
       "<style scoped>\n",
       "    .dataframe tbody tr th:only-of-type {\n",
       "        vertical-align: middle;\n",
       "    }\n",
       "\n",
       "    .dataframe tbody tr th {\n",
       "        vertical-align: top;\n",
       "    }\n",
       "\n",
       "    .dataframe thead th {\n",
       "        text-align: right;\n",
       "    }\n",
       "</style>\n",
       "<table border=\"1\" class=\"dataframe\">\n",
       "  <thead>\n",
       "    <tr style=\"text-align: right;\">\n",
       "      <th></th>\n",
       "      <th>header</th>\n",
       "      <th>measured depth</th>\n",
       "      <th>inclination</th>\n",
       "      <th>azimuth</th>\n",
       "      <th>true vertical depth</th>\n",
       "      <th>northing +N</th>\n",
       "      <th>easting +E</th>\n",
       "      <th>GR</th>\n",
       "    </tr>\n",
       "  </thead>\n",
       "  <tbody>\n",
       "    <tr>\n",
       "      <th>0</th>\n",
       "      <td>Operator Name</td>\n",
       "      <td>0.0</td>\n",
       "      <td>0.0</td>\n",
       "      <td>0.00</td>\n",
       "      <td>0.000</td>\n",
       "      <td>0.000</td>\n",
       "      <td>0.000</td>\n",
       "      <td>NaN</td>\n",
       "    </tr>\n",
       "    <tr>\n",
       "      <th>1</th>\n",
       "      <td>Whiting Oil and Gas</td>\n",
       "      <td>418.0</td>\n",
       "      <td>0.7</td>\n",
       "      <td>335.60</td>\n",
       "      <td>417.990</td>\n",
       "      <td>2.325</td>\n",
       "      <td>-1.055</td>\n",
       "      <td>NaN</td>\n",
       "    </tr>\n",
       "    <tr>\n",
       "      <th>2</th>\n",
       "      <td>Operator Number</td>\n",
       "      <td>788.0</td>\n",
       "      <td>1.6</td>\n",
       "      <td>353.30</td>\n",
       "      <td>787.912</td>\n",
       "      <td>9.514</td>\n",
       "      <td>-2.591</td>\n",
       "      <td>NaN</td>\n",
       "    </tr>\n",
       "    <tr>\n",
       "      <th>3</th>\n",
       "      <td>96155</td>\n",
       "      <td>1068.0</td>\n",
       "      <td>1.9</td>\n",
       "      <td>358.00</td>\n",
       "      <td>1067.781</td>\n",
       "      <td>18.035</td>\n",
       "      <td>-3.209</td>\n",
       "      <td>NaN</td>\n",
       "    </tr>\n",
       "    <tr>\n",
       "      <th>4</th>\n",
       "      <td>Well Name and Number</td>\n",
       "      <td>1254.0</td>\n",
       "      <td>2.0</td>\n",
       "      <td>0.32</td>\n",
       "      <td>1253.674</td>\n",
       "      <td>24.362</td>\n",
       "      <td>-3.299</td>\n",
       "      <td>NaN</td>\n",
       "    </tr>\n",
       "  </tbody>\n",
       "</table>\n",
       "</div>"
      ],
      "text/plain": [
       "                 header  measured depth  inclination  azimuth  \\\n",
       "0         Operator Name             0.0          0.0     0.00   \n",
       "1   Whiting Oil and Gas           418.0          0.7   335.60   \n",
       "2       Operator Number           788.0          1.6   353.30   \n",
       "3                 96155          1068.0          1.9   358.00   \n",
       "4  Well Name and Number          1254.0          2.0     0.32   \n",
       "\n",
       "   true vertical depth  northing +N  easting +E  GR  \n",
       "0                0.000        0.000       0.000 NaN  \n",
       "1              417.990        2.325      -1.055 NaN  \n",
       "2              787.912        9.514      -2.591 NaN  \n",
       "3             1067.781       18.035      -3.209 NaN  \n",
       "4             1253.674       24.362      -3.299 NaN  "
      ]
     },
     "execution_count": 5,
     "metadata": {},
     "output_type": "execute_result"
    }
   ],
   "source": [
    "combined = pd.merge(directional_data, lwd, on=\"measured depth\", how=\"outer\")\n",
    "combined.head()"
   ]
  },
  {
   "cell_type": "markdown",
   "metadata": {},
   "source": [
    "Let's go ahead and standardize the data a bit and get rid of any `NaN` values. This is a one liner with `interpolate` and `fillna`. This next cell just interpolates missing values in the `DataFrame` then replaces any `NaN` values with zero."
   ]
  },
  {
   "cell_type": "code",
   "execution_count": 6,
   "metadata": {},
   "outputs": [
    {
     "data": {
      "text/html": [
       "<div>\n",
       "<style scoped>\n",
       "    .dataframe tbody tr th:only-of-type {\n",
       "        vertical-align: middle;\n",
       "    }\n",
       "\n",
       "    .dataframe tbody tr th {\n",
       "        vertical-align: top;\n",
       "    }\n",
       "\n",
       "    .dataframe thead th {\n",
       "        text-align: right;\n",
       "    }\n",
       "</style>\n",
       "<table border=\"1\" class=\"dataframe\">\n",
       "  <thead>\n",
       "    <tr style=\"text-align: right;\">\n",
       "      <th></th>\n",
       "      <th>header</th>\n",
       "      <th>measured depth</th>\n",
       "      <th>inclination</th>\n",
       "      <th>azimuth</th>\n",
       "      <th>true vertical depth</th>\n",
       "      <th>northing +N</th>\n",
       "      <th>easting +E</th>\n",
       "      <th>GR</th>\n",
       "    </tr>\n",
       "  </thead>\n",
       "  <tbody>\n",
       "    <tr>\n",
       "      <th>0</th>\n",
       "      <td>Operator Name</td>\n",
       "      <td>0.0</td>\n",
       "      <td>0.0</td>\n",
       "      <td>0.00</td>\n",
       "      <td>0.000</td>\n",
       "      <td>0.000</td>\n",
       "      <td>0.000</td>\n",
       "      <td>0.0</td>\n",
       "    </tr>\n",
       "    <tr>\n",
       "      <th>1</th>\n",
       "      <td>Whiting Oil and Gas</td>\n",
       "      <td>418.0</td>\n",
       "      <td>0.7</td>\n",
       "      <td>335.60</td>\n",
       "      <td>417.990</td>\n",
       "      <td>2.325</td>\n",
       "      <td>-1.055</td>\n",
       "      <td>0.0</td>\n",
       "    </tr>\n",
       "    <tr>\n",
       "      <th>2</th>\n",
       "      <td>Operator Number</td>\n",
       "      <td>788.0</td>\n",
       "      <td>1.6</td>\n",
       "      <td>353.30</td>\n",
       "      <td>787.912</td>\n",
       "      <td>9.514</td>\n",
       "      <td>-2.591</td>\n",
       "      <td>0.0</td>\n",
       "    </tr>\n",
       "    <tr>\n",
       "      <th>3</th>\n",
       "      <td>96155</td>\n",
       "      <td>1068.0</td>\n",
       "      <td>1.9</td>\n",
       "      <td>358.00</td>\n",
       "      <td>1067.781</td>\n",
       "      <td>18.035</td>\n",
       "      <td>-3.209</td>\n",
       "      <td>0.0</td>\n",
       "    </tr>\n",
       "    <tr>\n",
       "      <th>4</th>\n",
       "      <td>Well Name and Number</td>\n",
       "      <td>1254.0</td>\n",
       "      <td>2.0</td>\n",
       "      <td>0.32</td>\n",
       "      <td>1253.674</td>\n",
       "      <td>24.362</td>\n",
       "      <td>-3.299</td>\n",
       "      <td>0.0</td>\n",
       "    </tr>\n",
       "  </tbody>\n",
       "</table>\n",
       "</div>"
      ],
      "text/plain": [
       "                 header  measured depth  inclination  azimuth  \\\n",
       "0         Operator Name             0.0          0.0     0.00   \n",
       "1   Whiting Oil and Gas           418.0          0.7   335.60   \n",
       "2       Operator Number           788.0          1.6   353.30   \n",
       "3                 96155          1068.0          1.9   358.00   \n",
       "4  Well Name and Number          1254.0          2.0     0.32   \n",
       "\n",
       "   true vertical depth  northing +N  easting +E   GR  \n",
       "0                0.000        0.000       0.000  0.0  \n",
       "1              417.990        2.325      -1.055  0.0  \n",
       "2              787.912        9.514      -2.591  0.0  \n",
       "3             1067.781       18.035      -3.209  0.0  \n",
       "4             1253.674       24.362      -3.299  0.0  "
      ]
     },
     "execution_count": 6,
     "metadata": {},
     "output_type": "execute_result"
    }
   ],
   "source": [
    "interpolated = combined.interpolate(method=\"linear\").fillna(0)\n",
    "interpolated.head()"
   ]
  },
  {
   "cell_type": "markdown",
   "metadata": {},
   "source": [
    "Now that the data is cleaned up and organized we can have some fun. First we want to normalize the `GR` column and add it to a `np.array`, we will grab the easting, northing, and depth values from `easting +E`, `northing +N` and `true vertical depth` and create `np.array`s from them.  "
   ]
  },
  {
   "cell_type": "code",
   "execution_count": 7,
   "metadata": {},
   "outputs": [],
   "source": [
    "shaded = (interpolated.GR / np.max(interpolated.GR)).values\n",
    "easting = interpolated[\"easting +E\"].values\n",
    "northing = interpolated[\"northing +N\"].values\n",
    "depth = interpolated[\"true vertical depth\"].values"
   ]
  },
  {
   "cell_type": "markdown",
   "metadata": {},
   "source": [
    "Next we import `Axes3D` from `matplotlib` so we can plot this up in 3-dimensions. We then set the figure size and the projection to `3d`. After that we call `ax.scatter` and fill in our values for x, y, z (note depth has `-` to invert the depth values). Set the colormap to `magma`, the size of the points equal to `azimuth` (delete if you want all the points the same size), and get rid of any `edgecolors`. Throw on some labels and we have a nicely colored 3D plot!"
   ]
  },
  {
   "cell_type": "code",
   "execution_count": 8,
   "metadata": {},
   "outputs": [
    {
     "data": {
      "text/plain": [
       "Text(0.5, 0, 'Depth')"
      ]
     },
     "execution_count": 8,
     "metadata": {},
     "output_type": "execute_result"
    },
    {
     "data": {
      "image/png": "[encoded data removed]",
      "text/plain": [
       "<Figure size 864x432 with 1 Axes>"
      ]
     },
     "metadata": {
      "needs_background": "light"
     },
     "output_type": "display_data"
    }
   ],
   "source": [
    "from mpl_toolkits.mplot3d import Axes3D\n",
    "\n",
    "ax = plt.figure(figsize=plt.figaspect(0.5)*1.5).gca(projection=\"3d\")\n",
    "ax.scatter(\n",
    "    easting,\n",
    "    northing,\n",
    "    -depth,\n",
    "    c=plt.cm.magma(shaded),\n",
    "    s=interpolated[\"azimuth\"] * 2,\n",
    "    edgecolors=\"none\",\n",
    ")\n",
    "ax.set_xlabel(\"Easting\")\n",
    "ax.set_ylabel(\"Northing\")\n",
    "ax.set_zlabel(\"Depth\")\n"
   ]
  },
  {
   "cell_type": "markdown",
   "metadata": {},
   "source": [
    "Other things that would be fun to do with this kind of plot include plotting up an entire wellpad with 20+ wells at different stratigraphic heights or even add horizons in the plot for stratigraphic tops."
   ]
  },
  {
   "cell_type": "markdown",
   "metadata": {},
   "source": [
    "This notebook is licensed as CC-BY, use and share to your hearts content."
   ]
  }
 ],
 "metadata": {
  "kernelspec": {
   "display_name": "Python 3",
   "language": "python",
   "name": "python3"
  },
  "language_info": {
   "codemirror_mode": {
    "name": "ipython",
    "version": 3
   },
   "file_extension": ".py",
   "mimetype": "text/x-python",
   "name": "python",
   "nbconvert_exporter": "python",
   "pygments_lexer": "ipython3",
   "version": "3.6.6"
  }
 },
 "nbformat": 4,
 "nbformat_minor": 2
}
