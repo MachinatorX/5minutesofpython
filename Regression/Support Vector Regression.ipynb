{
 "cells": [
  {
   "cell_type": "markdown",
   "metadata": {},
   "source": [
    "# Fitting a Epsilon-Support Vector Regression"
   ]
  },
  {
   "cell_type": "markdown",
   "metadata": {},
   "source": [
    "This notebook uses interactive widgets to visualize parameter tuning with a support vector regression"
   ]
  },
  {
   "cell_type": "markdown",
   "metadata": {},
   "source": [
    "Go ahead and import `numpy`, `matplotlib`, and `ipywidgets` for this notebook"
   ]
  },
  {
   "cell_type": "code",
   "execution_count": 1,
   "metadata": {},
   "outputs": [],
   "source": [
    "import numpy as np\n",
    "import matplotlib.pyplot as plt\n",
    "import ipywidgets as widgets\n",
    "%matplotlib inline"
   ]
  },
  {
   "cell_type": "markdown",
   "metadata": {},
   "source": [
    "We want to create some toy data to fit with our non-linear regression. Go ahead and make it a fun mix of a `sine` and `cosine` function with some random noise thrown in for good measure. "
   ]
  },
  {
   "cell_type": "code",
   "execution_count": 2,
   "metadata": {},
   "outputs": [
    {
     "data": {
      "image/png": "[encoded data removed]",
      "text/plain": [
       "<Figure size 432x288 with 1 Axes>"
      ]
     },
     "metadata": {
      "needs_background": "light"
     },
     "output_type": "display_data"
    }
   ],
   "source": [
    "r = np.random.RandomState(2019)#set our random state so things don't change\n",
    "X = r.randint(0,100,100)#random x values\n",
    "y = np.sin(X/10)+np.cos(X/50)**2+r.rand(100)\n",
    "plt.scatter(X, y, color='green')#visualize the data\n",
    "xp = np.linspace(X.min(),X.max(), 100) #this is for our predictions"
   ]
  },
  {
   "cell_type": "markdown",
   "metadata": {},
   "source": [
    "Now let's import the `SVR` function from `scikit learn`"
   ]
  },
  {
   "cell_type": "code",
   "execution_count": 3,
   "metadata": {},
   "outputs": [],
   "source": [
    "from sklearn.svm import SVR"
   ]
  },
  {
   "cell_type": "markdown",
   "metadata": {},
   "source": [
    "To visually investigate the changes to the regression by `C` and `Epsilon` we have to call the `widgets` package, and create a function that takes the values of `C`, `Epsilon`, and for fun let's see how the different `kernel`s impact the regression. Once you run the cell below, you can move the sliders for the free parameters and see how the predictions change in the plot. The predictions also change significantly with the different `kernel`s as well. Move things around and see if you can eyeball the optimal fit."
   ]
  },
  {
   "cell_type": "code",
   "execution_count": 4,
   "metadata": {},
   "outputs": [
    {
     "data": {
      "text/plain": [
       "<Figure size 720x360 with 0 Axes>"
      ]
     },
     "metadata": {},
     "output_type": "display_data"
    },
    {
     "data": {
      "application/vnd.jupyter.widget-view+json": {
       "model_id": "9a658d47312d4bc59ad660921cf3caaf",
       "version_major": 2,
       "version_minor": 0
      },
      "text/plain": [
       "interactive(children=(Dropdown(description='kernel', options=('rbf', 'poly', 'linear', 'sigmoid'), value='rbf'…"
      ]
     },
     "metadata": {},
     "output_type": "display_data"
    }
   ],
   "source": [
    "plt.figure(figsize=(10,5))\n",
    "\n",
    "@widgets.interact(C=(0.0001, 10.1, 0.1), epsilon=(0.0001, 1.,0.01), kernel=['rbf', 'poly', 'linear', 'sigmoid'])\n",
    "def fitting(kernel, C, epsilon):\n",
    "    svr_rbf = SVR(kernel=kernel, C=C, gamma='scale', shrinking=True, epsilon=epsilon)\n",
    "    svr_rbf.fit(X.reshape(-1,1), y)\n",
    "    fig, ax = plt.subplots(1, 1, figsize=(10,10))\n",
    "    ax.scatter(X, y, label='Observed', color='g')\n",
    "    ax.plot(xp, svr_rbf.predict(xp.reshape(-1,1)), label='C = '+str(C)+' E = '+str(epsilon))\n"
   ]
  },
  {
   "cell_type": "markdown",
   "metadata": {},
   "source": [
    "The optimal fit using `GridSearchCV` is `C = 10`, `epsilon = 0.1` if `kernel = 'rbf'`"
   ]
  },
  {
   "cell_type": "code",
   "execution_count": 5,
   "metadata": {},
   "outputs": [],
   "source": [
    "import warnings\n",
    "warnings.filterwarnings('ignore')\n",
    "from sklearn.model_selection import GridSearchCV\n",
    "def svr_selection(X, y, n):\n",
    "    C = [0.0001, 0.001, 0.01, 0.1, 1, 10]\n",
    "    epsilon = [0.001, 0.01, 0.1, 1]\n",
    "    param_grid = {'C': C, 'epsilon' : epsilon}\n",
    "    grid_search = GridSearchCV(SVR(kernel='rbf', gamma='scale', shrinking=True), param_grid, cv=n)\n",
    "    grid_search.fit(X, y)\n",
    "    grid_search.best_params_\n",
    "    return grid_search.best_params_"
   ]
  },
  {
   "cell_type": "code",
   "execution_count": 6,
   "metadata": {},
   "outputs": [
    {
     "data": {
      "text/plain": [
       "{'C': 10, 'epsilon': 0.1}"
      ]
     },
     "execution_count": 6,
     "metadata": {},
     "output_type": "execute_result"
    }
   ],
   "source": [
    "svr_selection(X.reshape(-1,1), y, 3)"
   ]
  },
  {
   "cell_type": "markdown",
   "metadata": {},
   "source": [
    "This notebook is licensed as CC-BY, use and share to your hearts content."
   ]
  }
 ],
 "metadata": {
  "kernelspec": {
   "display_name": "Python 3",
   "language": "python",
   "name": "python3"
  },
  "language_info": {
   "codemirror_mode": {
    "name": "ipython",
    "version": 3
   },
   "file_extension": ".py",
   "mimetype": "text/x-python",
   "name": "python",
   "nbconvert_exporter": "python",
   "pygments_lexer": "ipython3",
   "version": "3.7.3"
  }
 },
 "nbformat": 4,
 "nbformat_minor": 2
}
