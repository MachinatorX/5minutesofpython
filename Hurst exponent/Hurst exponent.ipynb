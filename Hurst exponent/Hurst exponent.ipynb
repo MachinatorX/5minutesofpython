{
 "cells": [
  {
   "cell_type": "markdown",
   "metadata": {},
   "source": [
    "### Before you start, install the hurst package\n",
    "\n",
    "pip install hurst"
   ]
  },
  {
   "cell_type": "code",
   "execution_count": 1,
   "metadata": {},
   "outputs": [],
   "source": [
    "import numpy as np\n",
    "import pandas as pd\n",
    "import matplotlib.pyplot as plt\n",
    "import seaborn; seaborn.set() \n",
    "%matplotlib inline\n",
    "from hurst import compute_Hc, random_walk #this package does all the heavy lifting for us"
   ]
  },
  {
   "cell_type": "markdown",
   "metadata": {},
   "source": [
    "First let's get some data on oil prices from https://www.eia.gov/dnav/pet/PET_PRI_SPT_S1_D.htm\n",
    "\n",
    "This data is the 'eia_prices.xls' in the repo"
   ]
  },
  {
   "cell_type": "code",
   "execution_count": 2,
   "metadata": {},
   "outputs": [
    {
     "data": {
      "text/html": [
       "<div>\n",
       "<style scoped>\n",
       "    .dataframe tbody tr th:only-of-type {\n",
       "        vertical-align: middle;\n",
       "    }\n",
       "\n",
       "    .dataframe tbody tr th {\n",
       "        vertical-align: top;\n",
       "    }\n",
       "\n",
       "    .dataframe thead th {\n",
       "        text-align: right;\n",
       "    }\n",
       "</style>\n",
       "<table border=\"1\" class=\"dataframe\">\n",
       "  <thead>\n",
       "    <tr style=\"text-align: right;\">\n",
       "      <th></th>\n",
       "      <th>Cushing, OK WTI Spot Price FOB (Dollars per Barrel)</th>\n",
       "      <th>Europe Brent Spot Price FOB (Dollars per Barrel)</th>\n",
       "    </tr>\n",
       "    <tr>\n",
       "      <th>Date</th>\n",
       "      <th></th>\n",
       "      <th></th>\n",
       "    </tr>\n",
       "  </thead>\n",
       "  <tbody>\n",
       "    <tr>\n",
       "      <th>1987-05-20</th>\n",
       "      <td>19.75</td>\n",
       "      <td>18.63</td>\n",
       "    </tr>\n",
       "    <tr>\n",
       "      <th>1987-05-21</th>\n",
       "      <td>19.95</td>\n",
       "      <td>18.45</td>\n",
       "    </tr>\n",
       "    <tr>\n",
       "      <th>1987-05-22</th>\n",
       "      <td>19.68</td>\n",
       "      <td>18.55</td>\n",
       "    </tr>\n",
       "    <tr>\n",
       "      <th>1987-05-26</th>\n",
       "      <td>19.35</td>\n",
       "      <td>18.63</td>\n",
       "    </tr>\n",
       "    <tr>\n",
       "      <th>1987-05-27</th>\n",
       "      <td>19.38</td>\n",
       "      <td>18.60</td>\n",
       "    </tr>\n",
       "  </tbody>\n",
       "</table>\n",
       "</div>"
      ],
      "text/plain": [
       "            Cushing, OK WTI Spot Price FOB (Dollars per Barrel)  \\\n",
       "Date                                                              \n",
       "1987-05-20                                              19.75     \n",
       "1987-05-21                                              19.95     \n",
       "1987-05-22                                              19.68     \n",
       "1987-05-26                                              19.35     \n",
       "1987-05-27                                              19.38     \n",
       "\n",
       "            Europe Brent Spot Price FOB (Dollars per Barrel)  \n",
       "Date                                                          \n",
       "1987-05-20                                             18.63  \n",
       "1987-05-21                                             18.45  \n",
       "1987-05-22                                             18.55  \n",
       "1987-05-26                                             18.63  \n",
       "1987-05-27                                             18.60  "
      ]
     },
     "execution_count": 2,
     "metadata": {},
     "output_type": "execute_result"
    }
   ],
   "source": [
    "oil_price = pd.read_excel('eia_prices.xls', sheet_name='Data 1', header=2, index_col=[0], parse_dates=True).dropna() #read EIA workbook, open sheet named Data 1 and index with dates\n",
    "oil_price.head() #quick look to make sure the data is ok, we also dropped the NaN values"
   ]
  },
  {
   "cell_type": "markdown",
   "metadata": {},
   "source": [
    "You can change the dataframe to whatever time period you are interested in, you only need 100 samples to calculate the Hurst coefficient"
   ]
  },
  {
   "cell_type": "code",
   "execution_count": 3,
   "metadata": {},
   "outputs": [],
   "source": [
    "current_year = oil_price.loc['2018-05-22':'2018-11-22'] #pick a period of interest"
   ]
  },
  {
   "cell_type": "code",
   "execution_count": 4,
   "metadata": {},
   "outputs": [
    {
     "data": {
      "text/plain": [
       "pandas.core.series.Series"
      ]
     },
     "execution_count": 4,
     "metadata": {},
     "output_type": "execute_result"
    }
   ],
   "source": [
    "timeseries = current_year.iloc[:,0] #make a pandas series out of the dataframe and select the WTI column\n",
    "type(timeseries)"
   ]
  },
  {
   "cell_type": "code",
   "execution_count": 5,
   "metadata": {},
   "outputs": [
    {
     "data": {
      "text/plain": [
       "Text(0.5,1,'WTI Oil Prices')"
      ]
     },
     "execution_count": 5,
     "metadata": {},
     "output_type": "execute_result"
    },
    {
     "data": {
      "image/png": "[encoded data removed]",
      "text/plain": [
       "<Figure size 432x288 with 1 Axes>"
      ]
     },
     "metadata": {},
     "output_type": "display_data"
    }
   ],
   "source": [
    "plt.plot(timeseries) #see what WTI prices were doing as a timeseries\n",
    "plt.ylabel('Price ($/bbl)')\n",
    "plt.xlabel('Date')\n",
    "plt.title('WTI Oil Prices')"
   ]
  },
  {
   "cell_type": "markdown",
   "metadata": {},
   "source": [
    "This next cell calculates our Hurst coefficient, we use the price as the kind, and use the simplified calculation"
   ]
  },
  {
   "cell_type": "code",
   "execution_count": 6,
   "metadata": {},
   "outputs": [],
   "source": [
    "H, c, data = compute_Hc(timeseries, kind='price', simplified=True)"
   ]
  },
  {
   "cell_type": "markdown",
   "metadata": {},
   "source": [
    "then we plot the data like they did in the example at https://pypi.org/project/hurst/"
   ]
  },
  {
   "cell_type": "code",
   "execution_count": 7,
   "metadata": {},
   "outputs": [
    {
     "data": {
      "image/png": "[encoded data removed]",
      "text/plain": [
       "<Figure size 432x288 with 1 Axes>"
      ]
     },
     "metadata": {},
     "output_type": "display_data"
    },
    {
     "name": "stdout",
     "output_type": "stream",
     "text": [
      "H=0.4373, c=1.8796\n"
     ]
    }
   ],
   "source": [
    "f, ax = plt.subplots()\n",
    "ax.plot(data[0], c*data[0]**H, c='k')\n",
    "ax.scatter(data[0], data[1], c='g')\n",
    "ax.set_xscale('log')\n",
    "ax.set_yscale('log')\n",
    "ax.set_xlabel('Time interval')\n",
    "ax.set_ylabel('R/S ratio')\n",
    "ax.grid(True)\n",
    "plt.show()\n",
    "\n",
    "print(\"H={:.4f}, c={:.4f}\".format(H,c))"
   ]
  },
  {
   "cell_type": "markdown",
   "metadata": {},
   "source": [
    "Our H value is 0.4373 which means that for the time period from May 22nd through November 22nd WTI oil prices were fluctuating. \n",
    "\n",
    "From Wikipedia \"A value in the range 0 – 0.5 indicates a time series with long-term switching between high and low values in adjacent pairs, \n",
    "meaning that a single high value will probably be followed by a low value and that the value after that will tend to be high, with this tendency \n",
    "to switch between high and low values lasting a long time into the future\""
   ]
  },
  {
   "cell_type": "markdown",
   "metadata": {},
   "source": [
    "This notebook is licensed CC-BY and is free to share and use, for further information see the LICENSE.md in the main folder of this repository"
   ]
  },
  {
   "cell_type": "code",
   "execution_count": null,
   "metadata": {},
   "outputs": [],
   "source": []
  }
 ],
 "metadata": {
  "kernelspec": {
   "display_name": "Python 3",
   "language": "python",
   "name": "python3"
  },
  "language_info": {
   "codemirror_mode": {
    "name": "ipython",
    "version": 3
   },
   "file_extension": ".py",
   "mimetype": "text/x-python",
   "name": "python",
   "nbconvert_exporter": "python",
   "pygments_lexer": "ipython3",
   "version": "3.6.5"
  }
 },
 "nbformat": 4,
 "nbformat_minor": 2
}
